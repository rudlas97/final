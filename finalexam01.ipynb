{
 "cells": [
  {
   "cell_type": "code",
   "execution_count": 6,
   "metadata": {},
   "outputs": [
    {
     "name": "stdout",
     "output_type": "stream",
     "text": [
      "1    4.0000\n",
      "101    3.1515\n",
      "201    3.1466\n",
      "301    3.1449\n",
      "401    3.1441\n",
      "501    3.1436\n",
      "601    3.1433\n",
      "701    3.1430\n",
      "801    3.1428\n",
      "901    3.1427\n"
     ]
    }
   ],
   "source": [
    "m = 0.0\n",
    "\n",
    "for i in range(1,902):\n",
    "    m+=(((-1)**(i+1.0))/(2*i-1.0))\n",
    "    if(i %100 == 1):\n",
    "        print(\"{0:d}    {1:.4f}\".format(i,4*m))\n",
    "       \n",
    "\n"
   ]
  },
  {
   "cell_type": "code",
   "execution_count": null,
   "metadata": {},
   "outputs": [],
   "source": []
  },
  {
   "cell_type": "code",
   "execution_count": null,
   "metadata": {},
   "outputs": [],
   "source": []
  }
 ],
 "metadata": {
  "kernelspec": {
   "display_name": "Python 3",
   "language": "python",
   "name": "python3"
  },
  "language_info": {
   "codemirror_mode": {
    "name": "ipython",
    "version": 3
   },
   "file_extension": ".py",
   "mimetype": "text/x-python",
   "name": "python",
   "nbconvert_exporter": "python",
   "pygments_lexer": "ipython3",
   "version": "3.8.2"
  }
 },
 "nbformat": 4,
 "nbformat_minor": 4
}
