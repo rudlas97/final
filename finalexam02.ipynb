{
 "cells": [
  {
   "cell_type": "code",
   "execution_count": 39,
   "metadata": {},
   "outputs": [
    {
     "name": "stdout",
     "output_type": "stream",
     "text": [
      "1.4142135623730951\n",
      "x: 3 y: 3\n"
     ]
    }
   ],
   "source": [
    "import math as m\n",
    "class Point:\n",
    "    x = 0\n",
    "    y = 0\n",
    "    def __init__(self,x=0,y=0):\n",
    "        self.x = x\n",
    "        self.y = y\n",
    "    def distance(self,other):\n",
    "        return m.sqrt((other.x - self.x)**2 + (other.y - self.y)**2)\n",
    "    def __add__(self, other):\n",
    "        print(\"x:\",self.x+other.x,\"y:\",self.y+other.y)\n",
    "\n",
    "point1 = Point(1,1)\n",
    "point2 = Point(2,2)\n",
    "\n",
    "print(point1.distance(point2))\n",
    "point1+point2"
   ]
  },
  {
   "cell_type": "code",
   "execution_count": null,
   "metadata": {},
   "outputs": [],
   "source": []
  },
  {
   "cell_type": "code",
   "execution_count": null,
   "metadata": {},
   "outputs": [],
   "source": []
  }
 ],
 "metadata": {
  "kernelspec": {
   "display_name": "Python 3",
   "language": "python",
   "name": "python3"
  },
  "language_info": {
   "codemirror_mode": {
    "name": "ipython",
    "version": 3
   },
   "file_extension": ".py",
   "mimetype": "text/x-python",
   "name": "python",
   "nbconvert_exporter": "python",
   "pygments_lexer": "ipython3",
   "version": "3.8.2"
  }
 },
 "nbformat": 4,
 "nbformat_minor": 4
}
